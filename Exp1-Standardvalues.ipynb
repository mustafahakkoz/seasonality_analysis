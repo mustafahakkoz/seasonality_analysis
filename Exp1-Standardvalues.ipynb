{
 "cells": [
  {
   "cell_type": "code",
   "execution_count": 1,
   "metadata": {},
   "outputs": [
    {
     "ename": "SyntaxError",
     "evalue": "unexpected EOF while parsing (3931342603.py, line 55)",
     "output_type": "error",
     "traceback": [
      "\u001b[0;36m  Input \u001b[0;32mIn [1]\u001b[0;36m\u001b[0m\n\u001b[0;31m    # This table will belong to Experiment-1\u001b[0m\n\u001b[0m                                            ^\u001b[0m\n\u001b[0;31mSyntaxError\u001b[0m\u001b[0;31m:\u001b[0m unexpected EOF while parsing\n"
     ]
    }
   ],
   "source": [
    "import numpy as np\n",
    "import matplotlib.pyplot as plt\n",
    "import pandas as pd\n",
    "from sklearn.model_selection import train_test_split\n",
    "from sklearn.linear_model import LinearRegression\n",
    "from sklearn.metrics import mean_squared_error, r2_score\n",
    "\n",
    "# Load data from the text file\n",
    "with open('data/IBM.txt', 'r') as file:\n",
    "    lines = file.readlines()\n",
    "    data = []\n",
    "    dates = []\n",
    "\n",
    "    for line in lines[1:]:\n",
    "        parts = line.strip().split(',')\n",
    "        date = parts[0]\n",
    "        if '1980-12-12' <= date <= '2022-07-22':\n",
    "            dates.append(date)\n",
    "            data.append(float(parts[4]))  # 'Close' column\n",
    "\n",
    "# X = bugünün datası, \n",
    "# y=yarının datası=Xinkaydırılmış hali\n",
    "\n",
    "\n",
    "# X_train(%60), X_test(%40),\n",
    "# y_train(%60), y_test(%40)\n",
    "\n",
    "\n",
    "# pred, ground_truth\n",
    "\n",
    "# error = (pred-gt)\n",
    "\n",
    "# Create a DataFrame from the loaded data\n",
    "df = pd.DataFrame({'Date': pd.to_datetime(dates), 'Value': data})\n",
    "\n",
    "# Set the 'Date' column as the index\n",
    "df.set_index('Date', inplace=True)\n",
    "\n",
    "# Define a range of window sizes to test for 1-7-30 days, 1-5-20, 1-4-16 days\n",
    "window_sizes = [1,7,30]\n",
    "\n",
    "mse_values = []\n",
    "r2_values = []\n",
    "\n",
    "for window_size in window_sizes:\n",
    "    # Create rolling windows\n",
    "    # run pecnet with given window size\n",
    "    # get prediction from pecnet\n",
    "    # get ground truth from df\n",
    "    # calculate mse\n",
    "    # calculate r2\n",
    "    # append mse and r2 to lists\n",
    "\n",
    "# Create a table from the lists of MSE and R2 values\n",
    "# This table will belong to Experiment-1"
   ]
  },
  {
   "cell_type": "code",
   "execution_count": null,
   "metadata": {},
   "outputs": [],
   "source": []
  }
 ],
 "metadata": {
  "kernelspec": {
   "display_name": "serkanTez",
   "language": "python",
   "name": "python3"
  },
  "language_info": {
   "codemirror_mode": {
    "name": "ipython",
    "version": 3
   },
   "file_extension": ".py",
   "mimetype": "text/x-python",
   "name": "python",
   "nbconvert_exporter": "python",
   "pygments_lexer": "ipython3",
   "version": "3.8.16"
  }
 },
 "nbformat": 4,
 "nbformat_minor": 2
}
